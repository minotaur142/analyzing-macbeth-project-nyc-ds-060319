{
 "cells": [
  {
   "cell_type": "markdown",
   "metadata": {},
   "source": [
    "# Project: Analyzing Macbeth\n",
    "\n",
    "## Introduction\n",
    "For our first day and first data science project, we're going to do some rudimentry analysis of Shakespeare's classic play: Macbeth! You will get practice working with lists, condtionals and dictionaries, visualizing data, and thinking analytically about data.\n",
    "\n",
    "## Objectives\n",
    "You will be able to:\n",
    "* Show mastery of the content covered in this section\n",
    "\n",
    "## Getting the Data\n",
    "Here we start by importing a python package and using it to pull the transcript of Macbeth from the project Gutenberg website. We also preview a few details about what is now stored in the variable macbeth; it's a string with 119,846 characters, the first 500 of which are printed below. "
   ]
  },
  {
   "cell_type": "code",
   "execution_count": 1,
   "metadata": {},
   "outputs": [],
   "source": [
    "import requests\n",
    "macbeth = requests.get('http://www.gutenberg.org/cache/epub/2264/pg2264.txt').text\n",
    "macbeth = macbeth[macbeth.find(\"Thunder and Lightning\"):].lower()\n"
   ]
  },
  {
   "cell_type": "markdown",
   "metadata": {},
   "source": [
    "## Your Task\n",
    "\n",
    "Your task is to create a bar graph of the 25 most common words in Shakespeare's Macbeth.  \n",
    "\n",
    "\n",
    "A common python programming pattern to counting objects, produce histograms, or update statistics is to make calls to a dictionary as you iterate through a list. For example, given a list of words, you can create a dictionary to store counts and then iterate through the list of words, checking how many times each word has appeared using your dictionary, and updating the dictionary count now that you've seen that word again. The `dictionary.get()` method is very useful in doing this. Read the docstring for the dictionary.get() method and use it along with the pseudocode above to create a bar graph of the 25 most common words from the transcript of Macbeth which has been loaded into a variable 'Macbeth'. Be sure to include a title and appropriate labels for your graph."
   ]
  },
  {
   "cell_type": "code",
   "execution_count": 14,
   "metadata": {},
   "outputs": [
    {
     "name": "stdout",
     "output_type": "stream",
     "text": [
      "{'the': 646, 'and': 545, 'to': 383, 'of': 337, 'i': 331, 'a': 239, 'that': 227, 'my': 203, 'in': 199, 'is': 180, 'not': 165, 'it': 161, 'with': 153, 'his': 146, 'macb': 137, 'your': 126, 'our': 123, 'haue': 122, 'but': 120, 'me': 113, 'he': 110, 'for': 109, 'what': 106, 'this': 104}\n"
     ]
    },
    {
     "data": {
      "text/plain": [
       "([<matplotlib.axis.XTick at 0x7f7e68dd5e10>,\n",
       "  <matplotlib.axis.XTick at 0x7f7e68dd5390>,\n",
       "  <matplotlib.axis.XTick at 0x7f7e68dd5be0>,\n",
       "  <matplotlib.axis.XTick at 0x7f7e68de5ba8>,\n",
       "  <matplotlib.axis.XTick at 0x7f7e68e1f4e0>,\n",
       "  <matplotlib.axis.XTick at 0x7f7e68e1f9b0>,\n",
       "  <matplotlib.axis.XTick at 0x7f7e68e1fe80>,\n",
       "  <matplotlib.axis.XTick at 0x7f7e68e1a0f0>,\n",
       "  <matplotlib.axis.XTick at 0x7f7e68e1a6d8>,\n",
       "  <matplotlib.axis.XTick at 0x7f7e68e1acf8>,\n",
       "  <matplotlib.axis.XTick at 0x7f7e68e281d0>,\n",
       "  <matplotlib.axis.XTick at 0x7f7e68e1a208>,\n",
       "  <matplotlib.axis.XTick at 0x7f7e68e1f0b8>,\n",
       "  <matplotlib.axis.XTick at 0x7f7e68e286d8>,\n",
       "  <matplotlib.axis.XTick at 0x7f7e68e28c18>,\n",
       "  <matplotlib.axis.XTick at 0x7f7e689971d0>,\n",
       "  <matplotlib.axis.XTick at 0x7f7e689976d8>,\n",
       "  <matplotlib.axis.XTick at 0x7f7e68997be0>,\n",
       "  <matplotlib.axis.XTick at 0x7f7e6899f160>,\n",
       "  <matplotlib.axis.XTick at 0x7f7e6899f630>,\n",
       "  <matplotlib.axis.XTick at 0x7f7e68997f60>,\n",
       "  <matplotlib.axis.XTick at 0x7f7e68e283c8>,\n",
       "  <matplotlib.axis.XTick at 0x7f7e6899f588>,\n",
       "  <matplotlib.axis.XTick at 0x7f7e6899fe80>],\n",
       " <a list of 24 Text xticklabel objects>)"
      ]
     },
     "execution_count": 14,
     "metadata": {},
     "output_type": "execute_result"
    },
    {
     "data": {
      "image/png": "[encoded data removed]",
      "text/plain": [
       "<Figure size 432x288 with 1 Axes>"
      ]
     },
     "metadata": {
      "needs_background": "light"
     },
     "output_type": "display_data"
    }
   ],
   "source": [
    "import matplotlib.pyplot as plt\n",
    "punctuation = '''!()-[]{};:'\"\\,<>./?@#$%^&*_~'''\n",
    "no_punct = \"\"\n",
    "for char in macbeth:\n",
    "    if char not in punctuation: \n",
    "        no_punct = no_punct + char\n",
    "macbeth_no_punct = no_punct.split()\n",
    "word_count = dict.fromkeys(set(macbeth_no_punct))\n",
    "for word in word_count:\n",
    "    word_count[word] = macbeth_no_punct.count(word)\n",
    "swap = dict((v,k) for k,v in word_count.items())\n",
    "counts = sorted(list(swap.keys()), reverse=True)\n",
    "top_counts = counts[0:24]\n",
    "final = []\n",
    "for count in top_counts:\n",
    "    final.append(swap.get(count))\n",
    "final_dict = dict(zip(final, top_counts))\n",
    "print(final_dict)\n",
    "plt.bar(range(len(final_dict)), final_dict.values())\n",
    "plt.xticks(range(len(final_dict)), final_dict.keys())\n",
    "\n",
    "# Split the transcript into words\n",
    "# Create a dictionary\n",
    "# Iterate through the text of Macbeth\n",
    "# Update word counts\n",
    "# Create Bar Graph\n",
    "# Include descriptive titles and labels"
   ]
  },
  {
   "cell_type": "markdown",
   "metadata": {},
   "source": [
    "\n",
    "## Level Up (Optional)\n",
    "This project should take you about an hour and a half to complete. If you're done much more quickly than that and are not behind in the course, feel free to deepen your knowledge by completing any or all of the following tasks until you run out of time:\n",
    "* Create a list of top characters by mentions of their names \n",
    "* Split the text by which character is talking\n",
    "* Create subgraphs of the most common words by character\n",
    "* Reduce the string to the text of the play itself. (Remove any initial notes, forward, introduction, appendix, etc.)\n",
    "* Come up with some other fun analyses of the text!\n",
    "\n",
    "## Summary\n",
    "Congratulations! You've got some extra practice combining various data types into useful programming patterns and done an initial analysis of a classic text!"
   ]
  },
  {
   "cell_type": "code",
   "execution_count": null,
   "metadata": {},
   "outputs": [],
   "source": []
  }
 ],
 "metadata": {
  "kernelspec": {
   "display_name": "Python 3",
   "language": "python",
   "name": "python3"
  },
  "language_info": {
   "codemirror_mode": {
    "name": "ipython",
    "version": 3
   },
   "file_extension": ".py",
   "mimetype": "text/x-python",
   "name": "python",
   "nbconvert_exporter": "python",
   "pygments_lexer": "ipython3",
   "version": "3.6.6"
  }
 },
 "nbformat": 4,
 "nbformat_minor": 2
}
